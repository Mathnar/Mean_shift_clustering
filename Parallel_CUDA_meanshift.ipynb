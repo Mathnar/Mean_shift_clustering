{
  "nbformat": 4,
  "nbformat_minor": 0,
  "metadata": {
    "colab": {
      "provenance": [],
      "authorship_tag": "ABX9TyMhCz/cAxvLzfcUeE7tP8Ha",
      "include_colab_link": true
    },
    "kernelspec": {
      "name": "python3",
      "display_name": "Python 3"
    },
    "language_info": {
      "name": "python"
    },
    "accelerator": "GPU",
    "gpuClass": "standard"
  },
  "cells": [
    {
      "cell_type": "markdown",
      "metadata": {
        "id": "view-in-github",
        "colab_type": "text"
      },
      "source": [
        "<a href=\"https://colab.research.google.com/github/Mathnar/Mean_shift_clustering/blob/CUDA_colab/Parallel_CUDA_meanshift.ipynb\" target=\"_parent\"><img src=\"https://colab.research.google.com/assets/colab-badge.svg\" alt=\"Open In Colab\"/></a>"
      ]
    },
    {
      "cell_type": "markdown",
      "source": [
        "**Controllo funzioni GPU - CUDA**"
      ],
      "metadata": {
        "id": "YmblFAoX_iln"
      }
    },
    {
      "cell_type": "code",
      "source": [
        "!pip install git+https://github.com/andreinechaev/nvcc4jupyter.git"
      ],
      "metadata": {
        "colab": {
          "base_uri": "https://localhost:8080/"
        },
        "id": "nMHkYmuuvNEs",
        "outputId": "9fd55166-516f-4aef-cb1e-50b7de57c74c"
      },
      "execution_count": null,
      "outputs": [
        {
          "output_type": "stream",
          "name": "stdout",
          "text": [
            "Looking in indexes: https://pypi.org/simple, https://us-python.pkg.dev/colab-wheels/public/simple/\n",
            "Collecting git+https://github.com/andreinechaev/nvcc4jupyter.git\n",
            "  Cloning https://github.com/andreinechaev/nvcc4jupyter.git to /tmp/pip-req-build-xf73qwz7\n",
            "  Running command git clone -q https://github.com/andreinechaev/nvcc4jupyter.git /tmp/pip-req-build-xf73qwz7\n",
            "Building wheels for collected packages: NVCCPlugin\n",
            "  Building wheel for NVCCPlugin (setup.py) ... \u001b[?25l\u001b[?25hdone\n",
            "  Created wheel for NVCCPlugin: filename=NVCCPlugin-0.0.2-py3-none-any.whl size=4307 sha256=6c740bc851028500771a6a644b580efd9da2ac3a04d3b57345688304f391a037\n",
            "  Stored in directory: /tmp/pip-ephem-wheel-cache-i_cou_im/wheels/ca/33/8d/3c86eb85e97d2b6169d95c6e8f2c297fdec60db6e84cb56f5e\n",
            "Successfully built NVCCPlugin\n",
            "Installing collected packages: NVCCPlugin\n",
            "Successfully installed NVCCPlugin-0.0.2\n"
          ]
        }
      ]
    },
    {
      "cell_type": "code",
      "source": [
        "import torch\n",
        "torch.cuda.is_available()\n",
        "import tensorflow as tf\n",
        "tf.test.gpu_device_name()\n",
        "!nvcc --version\n",
        "!nvidia-smi"
      ],
      "metadata": {
        "colab": {
          "base_uri": "https://localhost:8080/"
        },
        "id": "V1VA7kle_VZu",
        "outputId": "9837e63e-5c40-42ba-f72b-868b9c8838f5"
      },
      "execution_count": null,
      "outputs": [
        {
          "output_type": "stream",
          "name": "stdout",
          "text": [
            "nvcc: NVIDIA (R) Cuda compiler driver\n",
            "Copyright (c) 2005-2021 NVIDIA Corporation\n",
            "Built on Sun_Feb_14_21:12:58_PST_2021\n",
            "Cuda compilation tools, release 11.2, V11.2.152\n",
            "Build cuda_11.2.r11.2/compiler.29618528_0\n",
            "Mon Nov 21 17:09:40 2022       \n",
            "+-----------------------------------------------------------------------------+\n",
            "| NVIDIA-SMI 460.32.03    Driver Version: 460.32.03    CUDA Version: 11.2     |\n",
            "|-------------------------------+----------------------+----------------------+\n",
            "| GPU  Name        Persistence-M| Bus-Id        Disp.A | Volatile Uncorr. ECC |\n",
            "| Fan  Temp  Perf  Pwr:Usage/Cap|         Memory-Usage | GPU-Util  Compute M. |\n",
            "|                               |                      |               MIG M. |\n",
            "|===============================+======================+======================|\n",
            "|   0  Tesla T4            Off  | 00000000:00:04.0 Off |                    0 |\n",
            "| N/A   59C    P0    28W /  70W |    816MiB / 15109MiB |      0%      Default |\n",
            "|                               |                      |                  N/A |\n",
            "+-------------------------------+----------------------+----------------------+\n",
            "                                                                               \n",
            "+-----------------------------------------------------------------------------+\n",
            "| Processes:                                                                  |\n",
            "|  GPU   GI   CI        PID   Type   Process name                  GPU Memory |\n",
            "|        ID   ID                                                   Usage      |\n",
            "|=============================================================================|\n",
            "+-----------------------------------------------------------------------------+\n"
          ]
        }
      ]
    },
    {
      "cell_type": "code",
      "source": [
        "%load_ext nvcc_plugin"
      ],
      "metadata": {
        "colab": {
          "base_uri": "https://localhost:8080/"
        },
        "id": "titLciztvBnv",
        "outputId": "7f1eb5fe-3e50-4656-efe5-b051c25badf5"
      },
      "execution_count": null,
      "outputs": [
        {
          "output_type": "stream",
          "name": "stdout",
          "text": [
            "created output directory at /content/src\n",
            "Out bin /content/result.out\n"
          ]
        }
      ]
    },
    {
      "cell_type": "code",
      "source": [
        "%%cu\n",
        "#include <cstdio>\n",
        "#include <iostream>\n",
        "\n",
        "using namespace std;\n",
        "\n",
        "__global__ void maxi(int* a, int* b, int n)\n",
        "{\n",
        "\tint block;\n",
        "\tblock = 256 * blockIdx.x;\n",
        "\tint max = 0;\n",
        "\n",
        "\tfor (int i = block; i < min(256 + block, n); i++) {\n",
        "\n",
        "\t\tif (max < a[i]) {\n",
        "\t\t\tmax = a[i];\n",
        "\t\t}\n",
        "\t}\n",
        "\tb[blockIdx.x] = max;\n",
        "}\n",
        "\n",
        "int main()\n",
        "{\n",
        "\n",
        "\tint n;\n",
        "\tn = 3 >> 2;\n",
        "\tint a[n];\n",
        "\t\n",
        "\tfor (int i = 0; i < n; i++) \n",
        " \t{\n",
        "\t\ta[i] = rand() % n;\n",
        "\t\tcout << a[i] << \"\\t\";\n",
        "\t}\n",
        "\n",
        "\tcudaEvent_t start, end;\n",
        "\tint *ad, *bd;\n",
        "\tint size = n * sizeof(int);\n",
        "\tcudaMalloc(&ad, size);\n",
        "\tcudaMemcpy(ad, a, size, cudaMemcpyHostToDevice);\n",
        "\tint grids = ceil(n * 1.0f / 256.0f);\n",
        "\tcudaMalloc(&bd, grids * sizeof(int));\n",
        "\n",
        "\tdim3 grid(grids, 1);\n",
        "\tdim3 block(1, 1);\n",
        "\n",
        "\tcudaEventCreate(&start);\n",
        "\tcudaEventCreate(&end);\n",
        "\tcudaEventRecord(start);\n",
        "\n",
        "\twhile (n > 1) {\n",
        "\t\tmaxi<<<grids, block>>>(ad, bd, n);\n",
        "\t\tn = ceil(n * 1.0f / 256.0f);\n",
        "\t\tcudaMemcpy(ad, bd, n * sizeof(int), cudaMemcpyDeviceToDevice);\n",
        "\t}\n",
        "\n",
        "\tcudaEventRecord(end);\n",
        "\tcudaEventSynchronize(end);\n",
        "\n",
        "\tfloat time = 0;\n",
        "\tcudaEventElapsedTime(&time, start, end);\n",
        "\n",
        "\tint ans[2];\n",
        "\tcudaMemcpy(ans, ad, 4, cudaMemcpyDeviceToHost);\n",
        "\n",
        "\tcout << \"The maximum element is : \" << ans[0] << endl;\n",
        "\n",
        "\tcout << \"The time required : \";\n",
        "\tcout << time << endl;\n",
        "}"
      ],
      "metadata": {
        "id": "5jT5revBv0Ew",
        "outputId": "1e3bc1ca-c3a5-4f93-dc75-0c600c814fcb",
        "colab": {
          "base_uri": "https://localhost:8080/"
        }
      },
      "execution_count": null,
      "outputs": [
        {
          "output_type": "stream",
          "name": "stdout",
          "text": [
            "The maximum element is : -1496946672\n",
            "The time required : 0.003392\n",
            "\n"
          ]
        }
      ]
    },
    {
      "cell_type": "markdown",
      "source": [
        "**CUDA_mean_shift**\n",
        "\n",
        "---\n",
        "\n",
        "\n",
        "\n",
        "---\n",
        "\n"
      ],
      "metadata": {
        "id": "y4d2DFzG_YYv"
      }
    },
    {
      "cell_type": "code",
      "source": [
        "%lsmagic"
      ],
      "metadata": {
        "colab": {
          "base_uri": "https://localhost:8080/",
          "height": 221
        },
        "id": "vehsvcjK0uBw",
        "outputId": "f55cc8b7-202b-4849-a823-f7ae4a3d6aa3"
      },
      "execution_count": null,
      "outputs": [
        {
          "output_type": "execute_result",
          "data": {
            "text/plain": [
              "Available line magics:\n",
              "%alias  %alias_magic  %autoawait  %autocall  %automagic  %autosave  %bookmark  %cat  %cd  %clear  %colors  %conda  %config  %connect_info  %cp  %debug  %dhist  %dirs  %doctest_mode  %ed  %edit  %env  %gui  %hist  %history  %killbgscripts  %ldir  %less  %lf  %lk  %ll  %load  %load_ext  %loadpy  %logoff  %logon  %logstart  %logstate  %logstop  %ls  %lsmagic  %lx  %macro  %magic  %man  %matplotlib  %mkdir  %more  %mv  %notebook  %page  %pastebin  %pdb  %pdef  %pdoc  %pfile  %pinfo  %pinfo2  %pip  %popd  %pprint  %precision  %prun  %psearch  %psource  %pushd  %pwd  %pycat  %pylab  %qtconsole  %quickref  %recall  %rehashx  %reload_ext  %rep  %rerun  %reset  %reset_selective  %rm  %rmdir  %run  %save  %sc  %set_env  %shell  %store  %sx  %system  %tb  %tensorflow_version  %time  %timeit  %unalias  %unload_ext  %who  %who_ls  %whos  %xdel  %xmode\n",
              "\n",
              "Available cell magics:\n",
              "%%!  %%HTML  %%SVG  %%bash  %%bigquery  %%capture  %%cu  %%cuda  %%cuda_run  %%debug  %%file  %%html  %%javascript  %%js  %%latex  %%markdown  %%perl  %%prun  %%pypy  %%python  %%python2  %%python3  %%ruby  %%script  %%sh  %%shell  %%svg  %%sx  %%system  %%time  %%timeit  %%writefile\n",
              "\n",
              "Automagic is ON, % prefix IS NOT needed for line magics."
            ],
            "application/json": {
              "line": {
                "automagic": "AutoMagics",
                "autocall": "AutoMagics",
                "alias_magic": "BasicMagics",
                "lsmagic": "BasicMagics",
                "magic": "BasicMagics",
                "page": "BasicMagics",
                "pprint": "BasicMagics",
                "colors": "BasicMagics",
                "xmode": "BasicMagics",
                "quickref": "BasicMagics",
                "doctest_mode": "BasicMagics",
                "gui": "BasicMagics",
                "precision": "BasicMagics",
                "notebook": "BasicMagics",
                "save": "CodeMagics",
                "pastebin": "CodeMagics",
                "loadpy": "CodeMagics",
                "load": "CodeMagics",
                "edit": "KernelMagics",
                "config": "ConfigMagics",
                "prun": "ExecutionMagics",
                "pdb": "ExecutionMagics",
                "debug": "ExecutionMagics",
                "tb": "ExecutionMagics",
                "run": "ExecutionMagics",
                "timeit": "ExecutionMagics",
                "time": "ExecutionMagics",
                "macro": "ExecutionMagics",
                "load_ext": "ExtensionMagics",
                "unload_ext": "ExtensionMagics",
                "reload_ext": "ExtensionMagics",
                "history": "HistoryMagics",
                "recall": "HistoryMagics",
                "rerun": "HistoryMagics",
                "logstart": "LoggingMagics",
                "logstop": "LoggingMagics",
                "logoff": "LoggingMagics",
                "logon": "LoggingMagics",
                "logstate": "LoggingMagics",
                "pinfo": "NamespaceMagics",
                "pinfo2": "NamespaceMagics",
                "pdef": "NamespaceMagics",
                "pdoc": "NamespaceMagics",
                "psource": "NamespaceMagics",
                "pfile": "NamespaceMagics",
                "psearch": "NamespaceMagics",
                "who_ls": "NamespaceMagics",
                "who": "NamespaceMagics",
                "whos": "NamespaceMagics",
                "reset": "NamespaceMagics",
                "reset_selective": "NamespaceMagics",
                "xdel": "NamespaceMagics",
                "alias": "OSMagics",
                "unalias": "OSMagics",
                "rehashx": "OSMagics",
                "pwd": "OSMagics",
                "cd": "OSMagics",
                "env": "OSMagics",
                "set_env": "OSMagics",
                "pushd": "OSMagics",
                "popd": "OSMagics",
                "dirs": "OSMagics",
                "dhist": "OSMagics",
                "sc": "OSMagics",
                "sx": "OSMagics",
                "system": "OSMagics",
                "bookmark": "OSMagics",
                "pycat": "OSMagics",
                "pip": "Other",
                "conda": "PackagingMagics",
                "matplotlib": "PylabMagics",
                "pylab": "PylabMagics",
                "killbgscripts": "ScriptMagics",
                "autoawait": "AsyncMagics",
                "ed": "Other",
                "hist": "Other",
                "rep": "Other",
                "clear": "KernelMagics",
                "less": "KernelMagics",
                "more": "KernelMagics",
                "man": "KernelMagics",
                "connect_info": "KernelMagics",
                "qtconsole": "KernelMagics",
                "autosave": "KernelMagics",
                "mkdir": "Other",
                "rmdir": "Other",
                "mv": "Other",
                "rm": "Other",
                "cp": "Other",
                "cat": "Other",
                "ls": "Other",
                "ll": "Other",
                "lf": "Other",
                "lk": "Other",
                "ldir": "Other",
                "lx": "Other",
                "store": "StoreMagics",
                "shell": "Other",
                "tensorflow_version": "Other"
              },
              "cell": {
                "js": "DisplayMagics",
                "javascript": "DisplayMagics",
                "latex": "DisplayMagics",
                "svg": "DisplayMagics",
                "html": "DisplayMagics",
                "markdown": "DisplayMagics",
                "prun": "ExecutionMagics",
                "debug": "ExecutionMagics",
                "timeit": "ExecutionMagics",
                "time": "ExecutionMagics",
                "capture": "ExecutionMagics",
                "sx": "OSMagics",
                "system": "OSMagics",
                "!": "OSMagics",
                "writefile": "OSMagics",
                "script": "ScriptMagics",
                "sh": "Other",
                "bash": "Other",
                "perl": "Other",
                "ruby": "Other",
                "python": "Other",
                "python2": "Other",
                "python3": "Other",
                "pypy": "Other",
                "SVG": "Other",
                "HTML": "Other",
                "file": "Other",
                "bigquery": "Other",
                "shell": "Other",
                "cu": "NVCCPlugin",
                "cuda": "NVCCPluginV2",
                "cuda_run": "NVCCPluginV2"
              }
            }
          },
          "metadata": {},
          "execution_count": 8
        }
      ]
    },
    {
      "cell_type": "code",
      "source": [
        "from google.colab import drive\n",
        "drive.mount('/content/drive')"
      ],
      "metadata": {
        "colab": {
          "base_uri": "https://localhost:8080/"
        },
        "id": "CWa5_4xP8MYw",
        "outputId": "0f17df05-21a0-4085-f6ee-5a8344da6b4d"
      },
      "execution_count": null,
      "outputs": [
        {
          "output_type": "stream",
          "name": "stdout",
          "text": [
            "Mounted at /content/drive\n"
          ]
        }
      ]
    },
    {
      "cell_type": "code",
      "source": [
        "%%cu\n",
        "\n",
        "#include <vector>\n",
        "#include <iostream>\n",
        "#include <fstream>\n",
        "#include <sstream>\n",
        "\n",
        "std::vector<float> get_data(const std::string& file){\n",
        "    std::vector<float> x;\n",
        "    std::vector<float> y;\n",
        "    std::vector<float> z;\n",
        "    std::ifstream data(file);\n",
        "    std::string line;\n",
        "    while(std::getline(data, line)){\n",
        "    \tstd::vector<float> coords;\n",
        "        std::stringstream row(line);\n",
        "        std::string el;\n",
        "        while(std::getline(row, el, ',')){\n",
        "            coords.push_back(stod(el));\n",
        "        }\n",
        "        x.push_back(coords[0]);\n",
        "        y.push_back(coords[1]);\n",
        "        z.push_back(coords[2]);\n",
        "    }\n",
        "    std::vector<float> points = x;\n",
        "    points.insert(points.end(), y.begin(), y.end());\n",
        "    points.insert(points.end(), z.begin(), z.end());\n",
        "    return points;\n",
        "}\n",
        "\n",
        "\n",
        "#include \"/content/drive/My Drive/CUDA_mean_shift/math.h\"\n",
        "#include <iostream>\n",
        "#include <numeric>\n",
        "#include <stdlib.h>\n",
        "#include <chrono>\n",
        "\n",
        "#include <thrust/host_vector.h>\n",
        "#include <thrust/device_vector.h>\n",
        "#include <thrust/sort.h>\n",
        "\n",
        "\n",
        "#define BDW 2\n",
        "#define N_DIM 3\n",
        "#define NUM_ITERATIONS 5\n",
        "#define NUM_TESTS 15\n",
        "#define BLOCK_DIM 64\n",
        "\n",
        "\n",
        "__global__ void CUDA_mean_shift(float* movedPoints, const float* zeroPoints, const unsigned nPoints) {\n",
        "\tint idx = blockIdx.x * blockDim.x + threadIdx.x;\n",
        "\tfloat3 newCoords = make_float3(0.0, 0.0, 0.0);\n",
        "\tfloat totalWeight = 0.0;\n",
        "\n",
        "\tif(idx < nPoints){\n",
        "\t\tfloat x = movedPoints[idx];\n",
        "\t\tfloat y = movedPoints[idx + nPoints];\n",
        "\t\tfloat z = movedPoints[idx + 2 * nPoints];\n",
        "\t\tfloat3 movedPoint = make_float3(x, y, z);\n",
        "\n",
        "\t\tfor(int i = 0; i < nPoints; i++){\n",
        "\t\t\tx = zeroPoints[i];\n",
        "\t\t\ty = zeroPoints[i + nPoints];\n",
        "\t\t\tz = zeroPoints[i + 2 * nPoints];\n",
        "\t\t\tfloat3 zeroPoint = make_float3(x, y, z);\n",
        "\t\t\tfloat3 difference = movedPoint - zeroPoint;\n",
        "\t\t\tfloat squaredDistance = dot(difference, difference);\n",
        "\t\t\tfloat weight = std::exp((-squaredDistance) / (2 * powf(BDW, 2)));\n",
        "\t\t\tnewCoords += zeroPoint * weight;\n",
        "\t\t\ttotalWeight += weight;\n",
        "\t\t}\n",
        "\t\tnewCoords /= totalWeight;\n",
        "\t\tmovedPoints[idx] = newCoords.x;\n",
        "\t\tmovedPoints[idx + nPoints] = newCoords.y;\n",
        "\t\tmovedPoints[idx + 2 * nPoints] = newCoords.z;\n",
        "\t}\n",
        "}\n",
        "\n",
        "int main(void)\n",
        "{\n",
        "\n",
        "\tstd::string data = \"/content/drive/My Drive/CUDA_mean_shift/data_250k.csv\";\n",
        "\tstd::vector<float> points = get_data(data);\n",
        "\n",
        "\tint nPoints = points.size() / N_DIM;\n",
        "\tprintf(\"Testing--> --> point to be clustered: %d\\n\", nPoints);\n",
        "\n",
        "\tfloat timer = 0.0;\n",
        "\n",
        "\tthrust::device_vector<float> zeroPoints = points;\n",
        "\tthrust::device_vector<float> movedPoints = points;\n",
        "\n",
        "\ttimer = 0.0;\n",
        "\n",
        "\tfor(int j = 0; j < NUM_TESTS; j++){\n",
        "\t\t\tzeroPoints = points;\n",
        "\t\t\tmovedPoints = points;\n",
        "\n",
        "\t\t\tfloat* zeroPoint = thrust::raw_pointer_cast(&zeroPoints[0]);\n",
        "\t\t\tfloat* movedPoint = thrust::raw_pointer_cast(&movedPoints[0]);\n",
        "\n",
        "\t\t\tdim3 gridDim = dim3(ceil((float) nPoints / BLOCK_DIM)); //variare block dim e bdw in base al blocco migliore\n",
        "\t\t\tdim3 blockDim = dim3(BLOCK_DIM);\n",
        "\n",
        "\t\t\tstd::chrono::high_resolution_clock::time_point start = std::chrono::high_resolution_clock::now();\n",
        "\t\t\tfor(int i = 0; i < NUM_ITERATIONS; i++){\n",
        "\t\t\t\tCUDA_mean_shift<<<gridDim, blockDim>>> (movedPoint, zeroPoint, nPoints);\n",
        "\t\t\t\tcudaDeviceSynchronize();\n",
        "\t\t\t}\n",
        "\t\t\tstd::chrono::high_resolution_clock::time_point end = std::chrono::high_resolution_clock::now();\n",
        "\t\t\tfloat elapsedTime = std::chrono::duration_cast<std::chrono::duration<float>>(end - start).count();\n",
        "\t\t\ttimer += elapsedTime;\n",
        "\t}\n",
        "\ttimer /= NUM_TESTS;\n",
        "\tprintf(\"\\nCUDA Mean shift clustering \\nTot Time of EXE %f\\n\", timer);\n",
        "\n",
        "\treturn 0;\n",
        "}\n"
      ],
      "metadata": {
        "colab": {
          "base_uri": "https://localhost:8080/"
        },
        "id": "U1EM7zsiQKRS",
        "outputId": "8e31b78a-d93c-43a3-b0ac-78ace2ca5837"
      },
      "execution_count": null,
      "outputs": [
        {
          "output_type": "stream",
          "name": "stdout",
          "text": [
            "Testing--> --> point to be clustered: 250000\n",
            "\n",
            "CUDA Mean shift clustering \n",
            "Tot Time of EXE 2.685420\n",
            "\n"
          ]
        }
      ]
    }
  ]
}